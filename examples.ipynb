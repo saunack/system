{
 "cells": [
  {
   "cell_type": "code",
   "execution_count": 1,
   "metadata": {},
   "outputs": [],
   "source": [
    "import numpy as np\n",
    "import matplotlib.pyplot as plt"
   ]
  },
  {
   "cell_type": "markdown",
   "metadata": {},
   "source": [
    "## thermostat example\n",
    "\n",
    "There are quite a few different scenarios which can happen\n",
    "\n",
    "1. check for variable and non variable environment temperature\n",
    "2. check for adustment != 1\n",
    "3. check for cases where leak + adustment = 2\n",
    "4. check for cases where leak + adustment > 2\n",
    "5. check for cases where leak + adjustment > 2 and the inflow ceiling is removed"
   ]
  },
  {
   "cell_type": "code",
   "execution_count": 2,
   "metadata": {},
   "outputs": [],
   "source": [
    "def env_temp(x,variable=True):\n",
    "    if not variable:\n",
    "        return 9\n",
    "    else:\n",
    "        if x <= 24 and x >= 0:\n",
    "            return 5/36*(x-12)**2-10\n",
    "        else:\n",
    "            return env_temp(0, variable)"
   ]
  },
  {
   "cell_type": "code",
   "execution_count": 10,
   "metadata": {},
   "outputs": [],
   "source": [
    "desired = 11\n",
    "initial_room_temp =12\n",
    "leak = 0.3\n",
    "only_heat = False\n",
    "adjustment = 1.0\n",
    "variable_env = False"
   ]
  },
  {
   "cell_type": "code",
   "execution_count": 11,
   "metadata": {
    "scrolled": true
   },
   "outputs": [
    {
     "data": {
      "image/png": "[encoded data removed]",
      "text/plain": [
       "<Figure size 432x288 with 1 Axes>"
      ]
     },
     "metadata": {
      "needs_background": "light"
     },
     "output_type": "display_data"
    }
   ],
   "source": [
    "room_temp = [initial_room_temp]\n",
    "out_temp = []\n",
    "inflows = []\n",
    "outflows = []\n",
    "flows = []\n",
    "for x in range(-12,36):\n",
    "    env = env_temp(x,variable_env)\n",
    "    out_temp.append(env)\n",
    "    inflow = min(desired-room_temp[-1],5)*adjustment\n",
    "    if only_heat:\n",
    "        inflow = max(inflow, 0)\n",
    "    outflow = (room_temp[-1] - env)*leak\n",
    "    new_temp = room_temp[-1] + (inflow-outflow)\n",
    "    room_temp.append(new_temp)\n",
    "    inflows.append(inflow)\n",
    "    outflows.append(outflow)\n",
    "    flows.append(inflow-outflow)\n",
    "\n",
    "eqm = (desired*adjustment+env*leak)/(adjustment+leak)\n",
    "plt.plot(room_temp, label='room')\n",
    "plt.plot(out_temp, label='outside')\n",
    "plt.plot(outflows, label='outflow')\n",
    "plt.plot(inflows, label='inflow')\n",
    "plt.plot(flows, label='flow')\n",
    "plt.plot([desired for _ in range(len(room_temp))], label='desired')\n",
    "plt.plot([eqm for _ in range(len(room_temp))], label='equilibrium')\n",
    "plt.legend()\n",
    "plt.show()"
   ]
  },
  {
   "cell_type": "markdown",
   "metadata": {},
   "source": [
    "## capital of a company\n",
    "\n",
    "the depreciation at any given time should be capital(t - depreciation time), but the standard models assume that a fixed fraction of capital goes out of commission every year. That also works, since different capitals have different lifetimes.\n",
    "\n",
    "1. check eff\\*inv\\*deprec == 1\n",
    "2. check eff\\*inv\\*deprec < 1\n",
    "3. check eff\\*inv\\*deprec > 1\n",
    "4. check historical = True "
   ]
  },
  {
   "cell_type": "code",
   "execution_count": 235,
   "metadata": {},
   "outputs": [],
   "source": [
    "def capital(t,historical=False):\n",
    "    # memoise in case the call is recursive\n",
    "    if mem.get(t,None) is not None:\n",
    "        return mem[t]\n",
    "    stock = 0\n",
    "    production = 0\n",
    "    decommissioned = 0\n",
    "    new_stock = 0\n",
    "    if t < 0:\n",
    "        stock = 0\n",
    "    elif t == 0:\n",
    "        stock = c0\n",
    "    else:\n",
    "        stock_prev = capital(t-dt, historical)[0]\n",
    "        new_stock = stock_prev*eff*inv*dt\n",
    "        if new_stock < 0:\n",
    "            new_stock = 0\n",
    "        if historical:\n",
    "            decommissioned = capital(t-deprec, historical)[0]*dt\n",
    "        else:\n",
    "            decommissioned = stock_prev/deprec*dt\n",
    "        stock = stock_prev + new_stock - decommissioned\n",
    "    mem[t] = stock, new_stock, decommissioned\n",
    "    return stock, new_stock, decommissioned"
   ]
  },
  {
   "cell_type": "code",
   "execution_count": 236,
   "metadata": {},
   "outputs": [],
   "source": [
    "dt = 1\n",
    "c0 = 100\n",
    "eff = 0.35\n",
    "inv = 0.6\n",
    "deprec = 15\n",
    "mem = {}\n",
    "historical = True"
   ]
  },
  {
   "cell_type": "code",
   "execution_count": 238,
   "metadata": {},
   "outputs": [
    {
     "data": {
      "image/png": "[encoded data removed]",
      "text/plain": [
       "<Figure size 432x288 with 1 Axes>"
      ]
     },
     "metadata": {
      "needs_background": "light"
     },
     "output_type": "display_data"
    }
   ],
   "source": [
    "lot = []\n",
    "production = []\n",
    "decommission = []\n",
    "for x in range(40):\n",
    "    stock, prod, old = capital(x, historical)\n",
    "    lot.append(stock)\n",
    "    production.append(prod)\n",
    "    decommission.append(old)\n",
    "    \n",
    "plt.plot(lot,label='stock')\n",
    "plt.plot(production,label='added')\n",
    "plt.plot(decommission,label='removed')\n",
    "plt.legend()\n",
    "plt.show()"
   ]
  },
  {
   "cell_type": "markdown",
   "metadata": {},
   "source": [
    "# Sales inventory\n",
    "\n",
    "Standard practices:\n",
    "1. inventories are added at the end of the day and are not used for order calculations\n",
    "2. the buffer discrepancy and response delay is calculated without including the current day's sales. The sales for a day are automatically added to the orders to be placed without any multiplicative factor\n",
    "\n",
    "If these are not followed, in the equilibrium state at t=0, the number of orders would have been 0 or a fraction(by a factor response delay) of what would have been required to keep the lot size stable\n",
    "\n",
    "### Delays (and values to change and experiment with):\n",
    "1. Perception time: number of days to be averaged over for trend recognition\n",
    "2. Response delay: Percentage of shortfall to cover\n",
    "3. Delivery delay: Time delay between order and delivery"
   ]
  },
  {
   "cell_type": "code",
   "execution_count": 186,
   "metadata": {},
   "outputs": [],
   "source": [
    "import math"
   ]
  },
  {
   "cell_type": "code",
   "execution_count": 222,
   "metadata": {},
   "outputs": [],
   "source": [
    "def sales(t, variable=True):\n",
    "    if not variable:\n",
    "        return 20\n",
    "#     return 20+math.sin(t*1/5*math.pi)\n",
    "    if t <= 10:\n",
    "        return 20\n",
    "    else:\n",
    "        return 22"
   ]
  },
  {
   "cell_type": "code",
   "execution_count": 229,
   "metadata": {},
   "outputs": [],
   "source": [
    "initial_lot = 200\n",
    "coverage = 10\n",
    "perception_delay = 15\n",
    "response_delay = 0.25\n",
    "delivery_delay = 5"
   ]
  },
  {
   "cell_type": "code",
   "execution_count": 230,
   "metadata": {
    "scrolled": true
   },
   "outputs": [],
   "source": [
    "orders = [initial_lot/coverage for x in range(delivery_delay)]\n",
    "daily_sales = []\n",
    "lot = [initial_lot]\n",
    "perceived_sales = []\n",
    "for t in range(200):\n",
    "    sale = sales(t)\n",
    "    daily_sales.append(sale)\n",
    "    perceived_sale = sum([sales(t-x) for x in range(perception_delay)])/perception_delay\n",
    "    perceived_sales.append(perceived_sale)\n",
    "    \n",
    "    required_lot = perceived_sale * coverage\n",
    "    order = (required_lot - lot[-1])*response_delay + sale\n",
    "    if order < 0:\n",
    "        order = 0\n",
    "    orders.append(order)\n",
    "    new_lot = lot[-1] + orders[t] - sale\n",
    "    lot.append(new_lot)\n",
    "#     print(lot[-1], sale, perceived_sale, required_lot, order)"
   ]
  },
  {
   "cell_type": "code",
   "execution_count": 231,
   "metadata": {},
   "outputs": [
    {
     "data": {
      "image/png": "[encoded data removed]",
      "text/plain": [
       "<Figure size 432x288 with 1 Axes>"
      ]
     },
     "metadata": {
      "needs_background": "light"
     },
     "output_type": "display_data"
    }
   ],
   "source": [
    "plt.plot(lot, label='lot size')\n",
    "plt.plot(perceived_sales, label='perceived sales')\n",
    "plt.plot(daily_sales, label='sales')\n",
    "plt.plot(orders[5:], label='orders')\n",
    "plt.legend()\n",
    "plt.show()"
   ]
  }
 ],
 "metadata": {
  "kernelspec": {
   "display_name": "Python 3",
   "language": "python",
   "name": "python3"
  },
  "language_info": {
   "codemirror_mode": {
    "name": "ipython",
    "version": 3
   },
   "file_extension": ".py",
   "mimetype": "text/x-python",
   "name": "python",
   "nbconvert_exporter": "python",
   "pygments_lexer": "ipython3",
   "version": "3.7.7"
  }
 },
 "nbformat": 4,
 "nbformat_minor": 4
}
